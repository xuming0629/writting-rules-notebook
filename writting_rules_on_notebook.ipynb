{
 "cells": [
  {
   "cell_type": "markdown",
   "metadata": {},
   "source": [
    "# Notebook 写作手册"
   ]
  },
  {
   "cell_type": "markdown",
   "metadata": {},
   "source": [
    "## 操作"
   ]
  },
  {
   "cell_type": "markdown",
   "metadata": {},
   "source": [
    "## 数学公式"
   ]
  },
  {
   "cell_type": "markdown",
   "metadata": {},
   "source": [
    "### 行内公式 "
   ]
  },
  {
   "cell_type": "markdown",
   "metadata": {},
   "source": [
    "这是一个行内公式 $x^2$. 写作时注意如下事项:\n",
    "1. `$ $` 内部不用空格, 因为 *Latex* 会自动忽略公式中的空格.\n",
    "1. `$ $` 内部如果需要空格, 可利用如下 *Latex* 命令.\n",
    "    + `\\quad` 表示四个空格\n",
    "    + `~`, `\\,` 表示一个空格\n",
    "1. 行内公式要与左右的文字空一格, 后面若直接跟标点符号, 标点符号后要加空格.\n",
    "1. 行内公式如过有多个对象应该分成多个行内公式.\n",
    "    + `$\\forall x \\in R,k>0$` 错误的格式 $\\forall x \\in R,k>0$ 正确书写格式 `$\\forall x \\in R$, $k>0$.` $\\forall x \\in R$, $k>0$    "
   ]
  },
  {
   "cell_type": "markdown",
   "metadata": {},
   "source": [
    "### 行间公式"
   ]
  },
  {
   "cell_type": "markdown",
   "metadata": {},
   "source": [
    "`$$ $$` 中间输入的公式是行间公式, 下面是一个行间公式 \n",
    "\n",
    "$$\n",
    "x^2 + y^2 = 1\n",
    "$$"
   ]
  },
  {
   "cell_type": "markdown",
   "metadata": {},
   "source": [
    "通常写作时注意如下事项:\n",
    "\n",
    "1. 如果可以使文档更清楚, 行间公式与前后文字可以空一行.\n",
    "1. 多行公式中, 公式显示中的一行对应 `latex` 公式中的一行.\n",
    "```latex\n",
    "$$\n",
    "\\begin{aligned}\n",
    "\\cos x\\frac{\\mathrm d y}{\\mathrm d x}&=y\\sin x\\\\\n",
    "\\frac{\\mathrm d y}{\\mathrm y}&=\\frac{\\sin x}{\\cos x}{\\mathrm d x}\\\\\n",
    "\\ln|y|&=-\\ln|\\cos x|+\\ln|c_0|\\\\\n",
    "y&=\\frac{c}{\\cos x}\\\\\n",
    "\\end{aligned}\n",
    "$$\n",
    "```\n",
    "$$\n",
    "\\begin{aligned}\n",
    "\\cos x\\frac{\\mathrm d y}{\\mathrm d x} & =y\\sin x\\\\\n",
    "\\frac{\\mathrm d y}{\\mathrm y} & =\\frac{\\sin x}{\\cos x}{\\mathrm d x}\\\\\n",
    "\\ln|y| &  =-\\ln|\\cos x|+\\ln|c_0|\\\\\n",
    "y &=\\frac{c}{\\cos x}\\\\\n",
    "\\end{aligned}\n",
    "$$"
   ]
  },
  {
   "cell_type": "markdown",
   "metadata": {},
   "source": [
    "特别在课件的写作中, 要注意如下事项:\n",
    "1. 尽量把长公式写为行间公式\n",
    "1. 不用编号索引公式.\n",
    "1. 一屏之内的内容尽量自封闭."
   ]
  },
  {
   "cell_type": "markdown",
   "metadata": {},
   "source": [
    "### 其它数学公式的用法："
   ]
  },
  {
   "cell_type": "markdown",
   "metadata": {},
   "source": [
    "这些用法的latcx公式的使用方法, 在文档中详细的介绍, 遇到什么问题只需查找即可."
   ]
  },
  {
   "cell_type": "markdown",
   "metadata": {},
   "source": [
    "## Markdown"
   ]
  },
  {
   "cell_type": "markdown",
   "metadata": {},
   "source": [
    "**标题级别的设置**\n",
    "\n",
    "下面用个例子进行说明: \n",
    "\n",
    "# 有限元数学理论方法\n",
    "## 有限元数学理论方法\n",
    "### 有限元数学理论方法\n",
    "# $\\cdots\\cdots\\cdots$"
   ]
  },
  {
   "cell_type": "markdown",
   "metadata": {},
   "source": [
    "在书写课件时要注意提纲目录标题的设置, 有助于区分每个层次之间的关系."
   ]
  },
  {
   "cell_type": "markdown",
   "metadata": {},
   "source": [
    "利用 Markdown 写作的过程中要注意如下事项:\n",
    "1. 一个 Markdown Cell 不要太多内容.\n",
    "1. 一个 Markdown Cell 尽量为一个意义单元.\n",
    "1. 所有的标题要独立一个 Cell. \n",
    "1. 数学中常用的一些关键词, 如 \n",
    "    + 第一次出现的概念名词\n",
    "    + \"注意:\", \"证明:\", \"练习\", \"解:\", \"例 1\", \"定理\" 等常用的词.\n",
    "1. 标点符号要与后面的文字空一格.\n",
    "1. 标点符号要用英文的标点符号.\n",
    "1. 一行内的数字, 英文单词都要和左右的文字空一格."
   ]
  },
  {
   "cell_type": "markdown",
   "metadata": {},
   "source": [
    "## 具体问题"
   ]
  },
  {
   "cell_type": "markdown",
   "metadata": {},
   "source": [
    "**例**\n",
    "```\n",
    "$$\n",
    "\\varphi(x)=y_0+\\int\\limits_{x_0}^x f(x,\\varphi(x))\\mathrm dx,\\quad x_0\\leq x\\leq x+h\n",
    "$$\n",
    "```\n",
    "注意第一个公式后, 一般加一个 `\\quad` 会更好一点"
   ]
  },
  {
   "cell_type": "markdown",
   "metadata": {},
   "source": [
    "**例**\n",
    "```\n",
    "$$\n",
    "\\int\\limits_{x_0}^x f(x,y)\\mathrm dx\n",
    "$$\n",
    "```\n",
    "$$\n",
    "\\int\\limits_{x_0}^x f(x,y)\\mathrm dx\n",
    "$$\n",
    "\n",
    "最好不要用`\\limits`, `\\mathrm dx` 前面要加一个 `\\,`\n",
    "```\n",
    "$$\n",
    "\\int_{x_0}^x f(x,y)\\,\\mathrm dx\n",
    "$$\n",
    "```\n",
    "$$\n",
    "\\int_{x_0}^x f(x,y)\\,\\mathrm dx\n",
    "$$"
   ]
  },
  {
   "cell_type": "markdown",
   "metadata": {},
   "source": [
    "\\left|\\int_{x_0}^x f(\\xi,y_0)\\,\\mathrm d\\xi\\right|"
   ]
  },
  {
   "cell_type": "markdown",
   "metadata": {},
   "source": [
    "\\varphi_k-1(x)"
   ]
  },
  {
   "cell_type": "markdown",
   "metadata": {},
   "source": [
    "##  表格的书写规则"
   ]
  },
  {
   "cell_type": "markdown",
   "metadata": {},
   "source": [
    "第一种表格的设置方式:\n",
    "\n",
    "|试验者|抛硬币次数 n|正面朝上次数 m|m/n|\n",
    "|:-----:|:-----:|:-----:|:----:|\n",
    "|De Morgan|2048|1061|0.5181|\n",
    "|Buffon|4040|2048|0.5069|\n",
    "|Fisher|10000|4979|0.4979|\n",
    "|Pearson|12000|6019|0.5016|\n",
    "|Pearson|24000|12012|0.5005|"
   ]
  },
  {
   "cell_type": "markdown",
   "metadata": {},
   "source": [
    "```\n",
    "\\begin{table}[h!]\n",
    "\\begin{center}\n",
    "\\begin{tabular}{|c|c|c|c|}\n",
    " \\hline\n",
    " $method$  & $forward$ & $backward$ & $Crank-Nicholson$ \\\\\n",
    " \\hline \n",
    "$NS,NT$& $NS=50,NT=1000$ & $NS=100,NT=100$ & $NS=100,NT=100$ \\\\ \n",
    " \\hline \n",
    "最大模误差 &5.2546e-03 &  3.4291e-03 & 1.4211e-02 \\\\ \n",
    " \\hline\n",
    "\\end{tabular}\n",
    "\\end{center}\n",
    "\\end{table}\n",
    "```\n",
    "此表格是在论文中的书写格式要求."
   ]
  },
  {
   "cell_type": "markdown",
   "metadata": {},
   "source": [
    "**注意:**其中表格的标题一般写在表格的上方."
   ]
  },
  {
   "cell_type": "markdown",
   "metadata": {
    "collapsed": true
   },
   "source": [
    "## 图片的插入规则"
   ]
  },
  {
   "cell_type": "markdown",
   "metadata": {
    "collapsed": true
   },
   "source": [
    "```\n",
    "![scale=0.3](./figures/4.png)\n",
    "```\n",
    "注意：这里图片大小的设置, 和图片的目录."
   ]
  },
  {
   "cell_type": "markdown",
   "metadata": {},
   "source": [
    "**图的主题写在图的下方**"
   ]
  },
  {
   "cell_type": "markdown",
   "metadata": {
    "collapsed": true
   },
   "source": [
    "## 三、Jupyter的各种快捷键\n",
    "\n",
    "执行当前cell，并自动跳到下一个cell：Shift Enter\n",
    "\n",
    "执行当前cell，执行后不自动调转到下一个cell：Ctrl-Enter\n",
    "\n",
    "是当前的cell进入编辑模式：Enter\n",
    "\n",
    "退出当前cell的编辑模式：Esc\n",
    "\n",
    "删除当前的cell：双D\n",
    "\n",
    "为当前的cell加入line number：单L\n",
    "\n",
    "将当前的cell转化为具有一级标题的maskdown：单1\n",
    "\n",
    "将当前的cell转化为具有二级标题的maskdown：单2\n",
    "\n",
    "将当前的cell转化为具有三级标题的maskdown：单3\n",
    "\n",
    "为一行或者多行添加/取消注释：Crtl /\n",
    "\n",
    "撤销对某个cell的删除：z\n",
    "\n",
    "浏览器的各个Tab之间切换：Crtl PgUp和Crtl PgDn\n",
    "\n",
    "快速跳转到首个cell：Crtl Home\n",
    "\n",
    "快速跳转到最后一个cell：Crtl End"
   ]
  },
  {
   "cell_type": "markdown",
   "metadata": {},
   "source": [
    "## Markdown 语法手册 （完整整理版）\n",
    "\n",
    "http://blog.leanote.com/post/freewalk/Markdown-%E8%AF%AD%E6%B3%95%E6%89%8B%E5%86%8C"
   ]
  },
  {
   "cell_type": "code",
   "execution_count": null,
   "metadata": {
    "collapsed": true
   },
   "outputs": [],
   "source": []
  }
 ],
 "metadata": {
  "kernelspec": {
   "display_name": "Python 3",
   "language": "python",
   "name": "python3"
  },
  "language_info": {
   "codemirror_mode": {
    "name": "ipython",
    "version": 3
   },
   "file_extension": ".py",
   "mimetype": "text/x-python",
   "name": "python",
   "nbconvert_exporter": "python",
   "pygments_lexer": "ipython3",
   "version": "3.5.2"
  }
 },
 "nbformat": 4,
 "nbformat_minor": 1
}
