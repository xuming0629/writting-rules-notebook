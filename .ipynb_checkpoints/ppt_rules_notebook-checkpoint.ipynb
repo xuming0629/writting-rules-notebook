{
 "cells": [
  {
   "cell_type": "markdown",
   "metadata": {},
   "source": [
    "## PPT 的安装和写作规则"
   ]
  },
  {
   "cell_type": "markdown",
   "metadata": {},
   "source": [
    "### PPT 插件的安装"
   ]
  },
  {
   "cell_type": "markdown",
   "metadata": {},
   "source": [
    "* sudo apt-get install jupyter-notebook\n",
    "* sudo -H pip3 install RISE\n",
    "* sudo jupyter-nbextension install rise --py --sys-prefix\n",
    "* sudo jupyter-nbextension enable rise --py --sys-prefix"
   ]
  },
  {
   "cell_type": "markdown",
   "metadata": {},
   "source": [
    "### PPT的写作规则"
   ]
  },
  {
   "cell_type": "markdown",
   "metadata": {},
   "source": [
    "安装插件之后, 选择打开方式\n",
    "\n",
    "* jupyter-notebook\n",
    "\n",
    "打开之后会在工具标签显示一个直方图的图标, 如下图所示：\n",
    "\n",
    "\n",
    "![](./figures/1.png)\n",
    "\n",
    "\n",
    "直方图是用来运行PPT的演示的按键."
   ]
  },
  {
   "cell_type": "markdown",
   "metadata": {},
   "source": [
    "选择视图(view)标签会出现　Cell Toolbar 工具, 接着选择 Slideshow 如下图所示:\n",
    "\n",
    "![scale=0.3](./figures/2.png)\n",
    "\n",
    "![scale=0.3](./figures/3.png)\n",
    "\n",
    "在右上角出现一个 Sildetype 的下拉框,其中有好多可选的类型:"
   ]
  },
  {
   "cell_type": "markdown",
   "metadata": {},
   "source": [
    "**可选的类型：**\n",
    "\n",
    "* -\n",
    "* Slide\n",
    "* Sub-Slide\n",
    "* Fragment\n",
    "* Skip\n",
    "* Notes"
   ]
  },
  {
   "cell_type": "markdown",
   "metadata": {},
   "source": [
    "其中每个类型的功能：\n",
    "\n",
    "* Slide: 就是一个完整的 Slide, 即可以说明文档的以这个标题的一个整章;\n",
    "\n",
    "* Sub-Slide: 用于把一个较大的Slide分成许多小的部分或片段进行显示;\n",
    "\n",
    "* Fragment: 用于把 Slide 和 Sub-Slide 中的文字，按照一个Fragment 动画插入PPT中, 如同幻灯片中每页中的动画效果，一页PPT中的多个内容逐次插入,以动画方式插入; \n",
    "\n",
    "* Skip: 表示跳过;\n",
    "\n",
    "* Notes: 表示笔记;\n",
    "\n",
    "其中 Skip 和 Notes 类型的 Cell, 是不会在 Slide 播放时显示."
   ]
  },
  {
   "cell_type": "markdown",
   "metadata": {},
   "source": [
    "## PPT背景的设置"
   ]
  },
  {
   "cell_type": "markdown",
   "metadata": {},
   "source": [
    "PPT的背景设置, 首先选择编辑(Edit),在列表中选择 Edit Notebook Metadata　中添加代码如图所示:"
   ]
  },
  {
   "cell_type": "markdown",
   "metadata": {},
   "source": [
    "![scale=0.3](./figures/4.png)"
   ]
  },
  {
   "cell_type": "markdown",
   "metadata": {},
   "source": [
    "**注意:** 添加的代码如下所示: \n",
    "\n",
    "```latcx\n",
    "{\n",
    "  \"kernelspec\": {\n",
    "    \"language\": \"\",\n",
    "    \"display_name\": \"SageMath 7.5.1\",\n",
    "    \"name\": \"sagemath\"\n",
    "  }\n",
    "```\n",
    "\n",
    "还有其它功能."
   ]
  },
  {
   "cell_type": "markdown",
   "metadata": {},
   "source": [
    "![scale=0.5](./figures/5.png)"
   ]
  },
  {
   "cell_type": "markdown",
   "metadata": {},
   "source": [
    "## jupyter-notebook导出PDF安装的插件"
   ]
  },
  {
   "cell_type": "markdown",
   "metadata": {},
   "source": [
    "* sudo apt-get -y install texlive texlive-xetex texlive-math-extra texlive-science texlive-latex-extra texlive-fonts-extra texlive-lang-cjk\n",
    "\n",
    "这条命令应该需要安装, 咱们写的配置文件中包含关于latcx的支持插件需要安装, 首先是安装的是咱们的那个配置文件\n",
    "\n",
    "其次, 需要安装\n",
    "\n",
    "sudo apt-get install pandoc\n",
    "\n",
    "转换 PDF 时必须打开文档采取的命令 jupyter-notebook\n",
    "\n",
    "**注意:** 目前导出 PDF 功能的文档仅支持英文, 中文支持问题的解决方案尚未解决."
   ]
  },
  {
   "cell_type": "markdown",
   "metadata": {},
   "source": [
    "**补充:**　\n",
    "\n",
    "目前查到的两种解决方案, 但是没有经过检验:"
   ]
  },
  {
   "cell_type": "markdown",
   "metadata": {},
   "source": [
    "## 中文支持\n"
   ]
  },
  {
   "cell_type": "markdown",
   "metadata": {},
   "source": [
    "### 第一种解决方案"
   ]
  },
  {
   "cell_type": "markdown",
   "metadata": {},
   "source": [
    "Jupyter NoteBook 导出 PDF 需要 Latex 支持, 但由于默认模版的设定, Latex 无法识别中文无法导出. 为了解决这个问题, 需要将 ipynb 转为 tex, 然后修改 tex 内容, 最后由 xelatex 生成 PDF 文件."
   ]
  },
  {
   "cell_type": "markdown",
   "metadata": {},
   "source": [
    "**将 ipynb 编译为 tex**\n",
    "\n",
    "* ipython nbconvert --to latex Example.ipynb"
   ]
  },
  {
   "cell_type": "markdown",
   "metadata": {},
   "source": [
    "**修改 tex, 增加中文支持**\n",
    "\n",
    "在\\documentclass{article} 后面插入下面两条代码.\n",
    "\n",
    "* \\usepackage{fontspec, xunicode, xltxtra}\n",
    "* \\setmainfont{Microsoft YaHei}"
   ]
  },
  {
   "cell_type": "markdown",
   "metadata": {},
   "source": [
    "**编译 tex, 生成 pdf**\n",
    "\n",
    "* xelatex Example.tex"
   ]
  },
  {
   "cell_type": "markdown",
   "metadata": {},
   "source": [
    "**注:** 这种生成的 PDF 无法进行自动换行！"
   ]
  },
  {
   "cell_type": "markdown",
   "metadata": {},
   "source": [
    "### 第二种解决方案:"
   ]
  },
  {
   "cell_type": "markdown",
   "metadata": {},
   "source": [
    "直接修改 tex　模板文件\n",
    "\n",
    "用文本编辑器打开article.tplx（\\Python27\\Lib\\site-packages\\nbconvert\\templates\\latex\\），修改为\\documentclass{ctexart}"
   ]
  },
  {
   "cell_type": "markdown",
   "metadata": {},
   "source": [
    "图片问题:\n",
    "\n",
    "ipynb–>tex\n",
    "•图片需要重新设定比例。[scale=0.3]\n"
   ]
  },
  {
   "cell_type": "code",
   "execution_count": null,
   "metadata": {
    "collapsed": true
   },
   "outputs": [],
   "source": []
  }
 ],
 "metadata": {
  "kernelspec": {
   "display_name": "SageMath 7.5.1",
   "language": "",
   "name": "sagemath"
  },
  "language_info": {
   "codemirror_mode": {
    "name": "ipython",
    "version": 2
   },
   "file_extension": ".py",
   "mimetype": "text/x-python",
   "name": "python",
   "nbconvert_exporter": "python",
   "pygments_lexer": "ipython2",
   "version": "2.7.13"
  }
 },
 "nbformat": 4,
 "nbformat_minor": 1
}
